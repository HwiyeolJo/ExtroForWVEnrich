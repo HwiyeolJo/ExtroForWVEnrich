{
 "cells": [
  {
   "cell_type": "code",
   "execution_count": 1,
   "metadata": {},
   "outputs": [
    {
     "name": "stdout",
     "output_type": "stream",
     "text": [
      "1917493\n"
     ]
    }
   ],
   "source": [
    "from __future__ import print_function\n",
    "from sklearn.utils.extmath import randomized_svd\n",
    "import numpy as np\n",
    "\n",
    "WordVecObject = open(\"../../Data/PretrainedWV/glove.42B.300d.txt\", 'r', encoding='utf-8')\n",
    "\n",
    "WordVecObject.readline()\n",
    "Word2Idx = {}\n",
    "WordVec_np = []\n",
    "idx = 0\n",
    "for line in WordVecObject:\n",
    "    line = line.split()\n",
    "    if len(line) != 301: continue\n",
    "    word = line[0]\n",
    "    vectors = list(map(float, line[1:]))\n",
    "    Word2Idx[word] = idx\n",
    "    WordVec_np.append(vectors)\n",
    "    idx = idx+1\n",
    "WordVec_np = np.array(WordVec_np)\n",
    "Idx2Dict = dict((v,k) for k,v in Word2Idx.items())\n",
    "print(len(WordVec_np))"
   ]
  },
  {
   "cell_type": "code",
   "execution_count": 2,
   "metadata": {},
   "outputs": [
    {
     "data": {
      "application/vnd.jupyter.widget-view+json": {
       "model_id": "187c3be012094a6795d1248a56ec186f",
       "version_major": 2,
       "version_minor": 0
      },
      "text/plain": [
       "HBox(children=(IntProgress(value=0, max=1917493), HTML(value='')))"
      ]
     },
     "metadata": {},
     "output_type": "display_data"
    },
    {
     "name": "stdout",
     "output_type": "stream",
     "text": [
      "\n"
     ]
    }
   ],
   "source": [
    "from sklearn.metrics.pairwise import cosine_similarity\n",
    "from tqdm import tqdm_notebook\n",
    "\n",
    "BatchSize = 2**10\n",
    "Threshold = 0.9\n",
    "Dim = 300\n",
    "\n",
    "U, Sigma, VT = randomized_svd(WordVec_np, n_components=Dim)\n",
    "WtoW = np.matmul(U, np.diag(Sigma))\n",
    "\n",
    "pbar = tqdm_notebook(total = WtoW.shape[0])\n",
    "ExtractedWords = {}\n",
    "for idx in range(int(WtoW.shape[0]/BatchSize)):\n",
    "    start_idx = idx * BatchSize\n",
    "    end_idx = start_idx + BatchSize\n",
    "    if end_idx > WtoW.shape[0]: end_idx = WtoW.shape[0]\n",
    "    pbar.update(end_idx - start_idx)\n",
    "\n",
    "    CosSimMat = cosine_similarity(WtoW[start_idx:end_idx], WtoW)\n",
    "    CosSimMat_idx = np.where(CosSimMat>=Threshold)\n",
    "    \n",
    "    for i in range(end_idx - start_idx):\n",
    "        w1 = CosSimMat_idx[0][i]\n",
    "        w2 = CosSimMat_idx[1][i]\n",
    "        if w1 == w2-start_idx: continue\n",
    "        else:\n",
    "            try:\n",
    "                if Idx2Dict[w1] in ExtractedWords:\n",
    "                    ExtractedWords[Idx2Dict[w1]].append(Idx2Dict[w2])\n",
    "                else:\n",
    "                    ExtractedWords[Idx2Dict[w1]] = [Idx2Dict[w2]]\n",
    "            except KeyError:\n",
    "                print(w1, w2)\n",
    "                continue\n",
    "pbar.close()"
   ]
  },
  {
   "cell_type": "code",
   "execution_count": 3,
   "metadata": {},
   "outputs": [
    {
     "name": "stdout",
     "output_type": "stream",
     "text": [
      "./Extracted_GloVe_Over0.9_Dim300_Batch1024.txt\n"
     ]
    }
   ],
   "source": [
    "FileObject = open(\"./Extracted_GloVe_Over\"+str(Threshold)+\"_Dim\"+str(Dim)+\"_Batch\"+str(BatchSize)+\".txt\", 'w', encoding='utf-8')\n",
    "print(\"./Extracted_GloVe_Over\"+str(Threshold)+\"_Dim\"+str(Dim)+\"_Batch\"+str(BatchSize)+\".txt\")\n",
    "for word, pairs in ExtractedWords.items():\n",
    "    FileObject.write(word+' ')\n",
    "    FileObject.write(' '.join(pairs)+'\\n')\n",
    "FileObject.close()"
   ]
  },
  {
   "cell_type": "code",
   "execution_count": null,
   "metadata": {},
   "outputs": [],
   "source": []
  }
 ],
 "metadata": {
  "kernelspec": {
   "display_name": "Python 3",
   "language": "python",
   "name": "python3"
  },
  "language_info": {
   "codemirror_mode": {
    "name": "ipython",
    "version": 3
   },
   "file_extension": ".py",
   "mimetype": "text/x-python",
   "name": "python",
   "nbconvert_exporter": "python",
   "pygments_lexer": "ipython3",
   "version": "3.5.2"
  }
 },
 "nbformat": 4,
 "nbformat_minor": 4
}

{
 "cells": [
  {
   "cell_type": "code",
   "execution_count": null,
   "metadata": {},
   "outputs": [],
   "source": [
    "from imp import reload\n",
    "\n",
    "import Extro\n",
    "import IntrinsicEval"
   ]
  },
  {
   "cell_type": "code",
   "execution_count": null,
   "metadata": {},
   "outputs": [],
   "source": [
    "def Evaluator(wordvec):\n",
    "    print('<MEN-3000 Dataset>', end=' ')\n",
    "    print(IntrinsicEval.Evaluating_MEN(wordvec, *IntrinsicEval.MENLoader()))\n",
    "    print('<WordSim-353 Dataset>', end=' ')\n",
    "    print(IntrinsicEval.Evaluating_WS(wordvec, *IntrinsicEval.WSLoader()))\n",
    "    print('<SimLex-999 Dataset>', end=' ')\n",
    "    print(IntrinsicEval.Evaluating_SIM(wordvec, *IntrinsicEval.SimLexLoader()))\n",
    "    print('<SimVerb Dataset>', end=' ')\n",
    "    print(IntrinsicEval.Evaluating_SV(wordvec, *IntrinsicEval.SimVerbLoader()))\n",
    "    print('<SemEval-2017 Task 2a>', end=' ')\n",
    "    print(IntrinsicEval.Evaluating_Semeval(wordvec, *IntrinsicEval.SemEvalLoader()))\n",
    "    print('<RG-65 Dataset>', end=' ')\n",
    "    print(IntrinsicEval.Evaluating_RG(wordvec, *IntrinsicEval.RGLoader()))\n",
    "    print('<RareWord Dataset>', end=' ')\n",
    "    print(IntrinsicEval.Evaluating_RW(wordvec, *IntrinsicEval.RareWordsLoader()))"
   ]
  },
  {
   "cell_type": "code",
   "execution_count": null,
   "metadata": {},
   "outputs": [],
   "source": [
    "wordVecs = Extro.read_word_vecs(\"../../Data/PretrainedWV/glove.42B.300d.txt\")\n",
    "# lexicon = Extro.read_lexicon(\"../../Research/SelfExtro/Extracted_GloVe_Over0.9_Dim100_Batch1024.txt\", wordVecs)\n",
    "lexicon = Extro.read_lexicon(\"../../Data/lexicons/wordnet-synonyms+.txt\", wordVecs)\n",
    "print(len(lexicon))"
   ]
  },
  {
   "cell_type": "code",
   "execution_count": null,
   "metadata": {},
   "outputs": [],
   "source": [
    "for i in range(9):\n",
    "    wordVecs = Extro.extrofit(wordVecs, lexicon, 0)\n",
    "    Extro.print_word_vecs(wordVecs, \"../../Data/PretrainedWV/GloVeERetro\"+str(i+1)+str(i)+\".txt\")    \n",
    "    Evaluator(wordVecs)\n",
    "    wordVecs = Extro.read_word_vecs(\"../../Data/PretrainedWV/GloVeERetro\"+str(i+1)+str(i)+\".txt\")\n",
    "    \n",
    "    wordVecs = Extro.retrofit(WordVecs, lexicon, 1)\n",
    "    Extro.print_word_vecs(wordVecs, \"../../Data/PretrainedWV/GloVeERetro\"+str(i+1)+str(i+1)+\".txt\")\n",
    "    Evaluator(wordVecs)\n",
    "    wordVecs = Extro.read_word_vecs(\"../../Data/PretrainedWV/GloVeERetro\"+str(i+1)+str(i+1)+\".txt\")"
   ]
  }
 ],
 "metadata": {
  "kernelspec": {
   "display_name": "Python 2",
   "language": "python",
   "name": "python2"
  },
  "language_info": {
   "codemirror_mode": {
    "name": "ipython",
    "version": 3
   },
   "file_extension": ".py",
   "mimetype": "text/x-python",
   "name": "python",
   "nbconvert_exporter": "python",
   "pygments_lexer": "ipython3",
   "version": "3.5.2"
  }
 },
 "nbformat": 4,
 "nbformat_minor": 4
}
